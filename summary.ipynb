{
 "cells": [
  {
   "cell_type": "code",
   "execution_count": 1,
   "metadata": {},
   "outputs": [
    {
     "name": "stdout",
     "output_type": "stream",
     "text": [
      "Defaulting to user installation because normal site-packages is not writeable\n",
      "Collecting PyPDF2\n",
      "  Downloading pypdf2-3.0.1-py3-none-any.whl (232 kB)\n",
      "Requirement already satisfied: typing_extensions>=3.10.0.0 in c:\\users\\850066504\\appdata\\roaming\\python\\python39\\site-packages (from PyPDF2) (4.5.0)\n",
      "Installing collected packages: PyPDF2\n",
      "Successfully installed PyPDF2-3.0.1\n",
      "Note: you may need to restart the kernel to use updated packages.\n"
     ]
    },
    {
     "name": "stderr",
     "output_type": "stream",
     "text": [
      "WARNING: You are using pip version 21.1.1; however, version 23.1.2 is available.\n",
      "You should consider upgrading via the 'c:\\Program Files\\Python39\\python.exe -m pip install --upgrade pip' command.\n"
     ]
    }
   ],
   "source": [
    "pip install PyPDF2"
   ]
  },
  {
   "cell_type": "code",
   "execution_count": 2,
   "metadata": {},
   "outputs": [
    {
     "name": "stdout",
     "output_type": "stream",
     "text": [
      "Defaulting to user installation because normal site-packages is not writeable\n",
      "Requirement already satisfied: PyPDF2 in c:\\users\\850066504\\appdata\\roaming\\python\\python39\\site-packages (3.0.1)\n",
      "Requirement already satisfied: typing_extensions>=3.10.0.0 in c:\\users\\850066504\\appdata\\roaming\\python\\python39\\site-packages (from PyPDF2) (4.5.0)\n",
      "Note: you may need to restart the kernel to use updated packages.\n"
     ]
    },
    {
     "name": "stderr",
     "output_type": "stream",
     "text": [
      "WARNING: You are using pip version 21.1.1; however, version 23.1.2 is available.\n",
      "You should consider upgrading via the 'c:\\Program Files\\Python39\\python.exe -m pip install --upgrade pip' command.\n"
     ]
    }
   ],
   "source": [
    "pip install --upgrade PyPDF2 "
   ]
  },
  {
   "cell_type": "code",
   "execution_count": 3,
   "metadata": {},
   "outputs": [
    {
     "name": "stdout",
     "output_type": "stream",
     "text": [
      "Defaulting to user installation because normal site-packages is not writeable\n",
      "Collecting gensim\n",
      "  Downloading gensim-4.3.1-cp39-cp39-win_amd64.whl (24.0 MB)\n",
      "Requirement already satisfied: numpy>=1.18.5 in c:\\users\\850066504\\appdata\\roaming\\python\\python39\\site-packages (from gensim) (1.19.5)\n",
      "Collecting smart-open>=1.8.1\n",
      "  Downloading smart_open-6.3.0-py3-none-any.whl (56 kB)\n",
      "Requirement already satisfied: scipy>=1.7.0 in c:\\users\\850066504\\appdata\\roaming\\python\\python39\\site-packages (from gensim) (1.10.1)\n",
      "Installing collected packages: smart-open, gensim\n",
      "Successfully installed gensim-4.3.1 smart-open-6.3.0\n",
      "Note: you may need to restart the kernel to use updated packages.\n"
     ]
    },
    {
     "name": "stderr",
     "output_type": "stream",
     "text": [
      "WARNING: You are using pip version 21.1.1; however, version 23.1.2 is available.\n",
      "You should consider upgrading via the 'c:\\Program Files\\Python39\\python.exe -m pip install --upgrade pip' command.\n"
     ]
    }
   ],
   "source": [
    "pip install gensim"
   ]
  },
  {
   "cell_type": "code",
   "execution_count": 4,
   "metadata": {},
   "outputs": [
    {
     "name": "stdout",
     "output_type": "stream",
     "text": [
      "Defaulting to user installation because normal site-packages is not writeable\n",
      "Requirement already satisfied: sumy in c:\\users\\850066504\\appdata\\roaming\\python\\python39\\site-packages (0.11.0)\n",
      "Requirement already satisfied: docopt<0.7,>=0.6.1 in c:\\users\\850066504\\appdata\\roaming\\python\\python39\\site-packages (from sumy) (0.6.2)\n",
      "Requirement already satisfied: requests>=2.7.0 in c:\\users\\850066504\\appdata\\roaming\\python\\python39\\site-packages (from sumy) (2.28.2)\n",
      "Requirement already satisfied: breadability>=0.1.20 in c:\\users\\850066504\\appdata\\roaming\\python\\python39\\site-packages (from sumy) (0.1.20)\n",
      "Requirement already satisfied: nltk>=3.0.2 in c:\\users\\850066504\\appdata\\roaming\\python\\python39\\site-packages (from sumy) (3.8.1)\n",
      "Requirement already satisfied: pycountry>=18.2.23 in c:\\users\\850066504\\appdata\\roaming\\python\\python39\\site-packages (from sumy) (22.3.5)\n",
      "Requirement already satisfied: lxml>=2.0 in c:\\users\\850066504\\appdata\\roaming\\python\\python39\\site-packages (from breadability>=0.1.20->sumy) (4.9.2)\n",
      "Requirement already satisfied: chardet in c:\\users\\850066504\\appdata\\roaming\\python\\python39\\site-packages (from breadability>=0.1.20->sumy) (5.1.0)\n",
      "Requirement already satisfied: tqdm in c:\\users\\850066504\\appdata\\roaming\\python\\python39\\site-packages (from nltk>=3.0.2->sumy) (4.65.0)\n",
      "Requirement already satisfied: regex>=2021.8.3 in c:\\users\\850066504\\appdata\\roaming\\python\\python39\\site-packages (from nltk>=3.0.2->sumy) (2023.3.23)\n",
      "Requirement already satisfied: click in c:\\users\\850066504\\appdata\\roaming\\python\\python39\\site-packages (from nltk>=3.0.2->sumy) (8.1.3)\n",
      "Requirement already satisfied: joblib in c:\\users\\850066504\\appdata\\roaming\\python\\python39\\site-packages (from nltk>=3.0.2->sumy) (1.2.0)\n",
      "Requirement already satisfied: setuptools in c:\\program files\\python39\\lib\\site-packages (from pycountry>=18.2.23->sumy) (56.0.0)\n",
      "Requirement already satisfied: charset-normalizer<4,>=2 in c:\\users\\850066504\\appdata\\roaming\\python\\python39\\site-packages (from requests>=2.7.0->sumy) (3.1.0)\n",
      "Requirement already satisfied: certifi>=2017.4.17 in c:\\users\\850066504\\appdata\\roaming\\python\\python39\\site-packages (from requests>=2.7.0->sumy) (2023.5.7)\n",
      "Requirement already satisfied: urllib3<1.27,>=1.21.1 in c:\\users\\850066504\\appdata\\roaming\\python\\python39\\site-packages (from requests>=2.7.0->sumy) (1.26.15)\n",
      "Requirement already satisfied: idna<4,>=2.5 in c:\\users\\850066504\\appdata\\roaming\\python\\python39\\site-packages (from requests>=2.7.0->sumy) (3.4)\n",
      "Requirement already satisfied: colorama in c:\\users\\850066504\\appdata\\roaming\\python\\python39\\site-packages (from click->nltk>=3.0.2->sumy) (0.4.6)\n",
      "Note: you may need to restart the kernel to use updated packages.\n"
     ]
    },
    {
     "name": "stderr",
     "output_type": "stream",
     "text": [
      "WARNING: You are using pip version 21.1.1; however, version 23.1.2 is available.\n",
      "You should consider upgrading via the 'c:\\Program Files\\Python39\\python.exe -m pip install --upgrade pip' command.\n"
     ]
    }
   ],
   "source": [
    "pip install sumy"
   ]
  },
  {
   "cell_type": "code",
   "execution_count": 5,
   "metadata": {},
   "outputs": [
    {
     "name": "stdout",
     "output_type": "stream",
     "text": [
      "Defaulting to user installation because normal site-packages is not writeable\n",
      "Requirement already satisfied: reportlab in c:\\users\\850066504\\appdata\\roaming\\python\\python39\\site-packages (3.6.12)\n",
      "Requirement already satisfied: pillow>=9.0.0 in c:\\users\\850066504\\appdata\\roaming\\python\\python39\\site-packages (from reportlab) (9.5.0)\n",
      "Note: you may need to restart the kernel to use updated packages.\n"
     ]
    },
    {
     "name": "stderr",
     "output_type": "stream",
     "text": [
      "WARNING: You are using pip version 21.1.1; however, version 23.1.2 is available.\n",
      "You should consider upgrading via the 'c:\\Program Files\\Python39\\python.exe -m pip install --upgrade pip' command.\n"
     ]
    }
   ],
   "source": [
    "pip install reportlab"
   ]
  },
  {
   "cell_type": "code",
   "execution_count": 6,
   "metadata": {},
   "outputs": [
    {
     "name": "stderr",
     "output_type": "stream",
     "text": [
      "[nltk_data] Downloading package punkt to\n",
      "[nltk_data]     C:\\Users\\850066504\\AppData\\Roaming\\nltk_data...\n",
      "[nltk_data]   Package punkt is already up-to-date!\n"
     ]
    },
    {
     "data": {
      "text/plain": [
       "True"
      ]
     },
     "execution_count": 6,
     "metadata": {},
     "output_type": "execute_result"
    }
   ],
   "source": [
    "\n",
    "import PyPDF2\n",
    "import nltk\n",
    "nltk.download('punkt')\n"
   ]
  },
  {
   "cell_type": "code",
   "execution_count": 7,
   "metadata": {},
   "outputs": [
    {
     "name": "stdout",
     "output_type": "stream",
     "text": [
      "\n",
      "Summary:\n",
      "v. Comprehensive analysis and understanding of the current environment, that incorporates considerations for security such as data sensitivity, legal or other regulatory issues, d isaster recovery and analysis of which on -premise technical resources / applications are best suited for the cloud vi. • Service shall allow Government Department empaneled users to procure and provision computing services or virtual m achine instances online with two -factor authentication via the SSL through a web browser. • CSP shall ensure that VMs receive OS patching, health checking, Systematic Attack Detection and backup functions. • CSPs shall be responsible for development, deployment, operations and support of  custom applications or any application procured by the User Department from Platform as a Service. • CSPs shall ensure that any services offered from Platform as a Service are portable and vertic ally integrated. • CSPs shall ensure that User Departments are provided with Central web based tool for monitoring and manag ement of services. • CSPs shall be responsible for ensuring that all data functions and processing are performed within the boundaries of India. • CSPs shall ensure that any service offered from SaaS are monitored, controlled and administered using web based tool with visibility to the User Department. • CSPs shall ensure that User Departments are provided with capability to generate custom reports around several parameters such as users, time, data, etc. • CSPs shall ensure that any service offered from the SaaS solution provider comply with PII data security standards like ISO 27018.\n"
     ]
    }
   ],
   "source": [
    "import PyPDF2\n",
    "from sumy.parsers.plaintext import PlaintextParser\n",
    "from sumy.nlp.tokenizers import Tokenizer\n",
    "from sumy.summarizers.lsa import LsaSummarizer\n",
    "\n",
    "def extract_text_from_pdf(file_path, start_page, end_page):\n",
    "    text = \"\"\n",
    "    \n",
    "    with open(file_path, 'rb') as file:\n",
    "        reader = PyPDF2.PdfReader(file)\n",
    "        \n",
    "        start_page = max(start_page, 0)\n",
    "        end_page = min(end_page, len(reader.pages))\n",
    "        \n",
    "        for page_num in range(start_page, end_page):\n",
    "            page = reader.pages[page_num]\n",
    "            text += page.extract_text()\n",
    "    \n",
    "    return text\n",
    "\n",
    "pdf_file_path = \"C:\\\\Users\\\\850066504\\\\Downloads\\\\file.pdf\"\n",
    "\n",
    "start_page = 36 \n",
    "end_page = 40  \n",
    "\n",
    "\n",
    "extracted_text = extract_text_from_pdf(pdf_file_path, start_page, end_page)\n",
    "\n",
    "\n",
    "parser = PlaintextParser.from_string(extracted_text, Tokenizer(\"english\"))\n",
    "\n",
    "\n",
    "summarizer = LsaSummarizer()\n",
    "summary = summarizer(parser.document, 10)  \n",
    "\n",
    "summary_text = \" \".join(str(sentence) for sentence in summary)\n",
    "\n",
    "\n",
    "print(\"\\nSummary:\")\n",
    "print(summary_text)"
   ]
  },
  {
   "cell_type": "code",
   "execution_count": 8,
   "metadata": {},
   "outputs": [
    {
     "name": "stdout",
     "output_type": "stream",
     "text": [
      "Defaulting to user installation because normal site-packages is not writeable\n",
      "Collecting spellchecker\n",
      "  Downloading spellchecker-0.4.tar.gz (3.9 MB)\n",
      "Requirement already satisfied: setuptools in c:\\program files\\python39\\lib\\site-packages (from spellchecker) (56.0.0)\n",
      "Collecting inexactsearch\n",
      "  Downloading inexactsearch-1.0.2.tar.gz (21 kB)\n",
      "Collecting soundex>=1.0\n",
      "  Downloading soundex-1.1.3.tar.gz (9.1 kB)\n",
      "Collecting silpa_common>=0.3\n",
      "  Downloading silpa_common-0.3.tar.gz (9.4 kB)\n",
      "Building wheels for collected packages: spellchecker, inexactsearch, silpa-common, soundex\n",
      "  Building wheel for spellchecker (setup.py): started\n",
      "  Building wheel for spellchecker (setup.py): finished with status 'done'\n",
      "  Created wheel for spellchecker: filename=spellchecker-0.4-py3-none-any.whl size=3966528 sha256=0052d7499026c45f66b937008ff17b9aac1581704bd64f2f54d836cfef46743e\n",
      "  Stored in directory: c:\\users\\850066504\\appdata\\local\\pip\\cache\\wheels\\8c\\52\\b3\\8795c86fe999a3b1a7d0f1b75a197fd984e37057cb537e2977\n",
      "  Building wheel for inexactsearch (setup.py): started\n",
      "  Building wheel for inexactsearch (setup.py): finished with status 'done'\n",
      "  Created wheel for inexactsearch: filename=inexactsearch-1.0.2-py3-none-any.whl size=7148 sha256=5c69ceb0ca89b3451d62058079555cf666ab5fd9ec670e93d53a669882f5e290\n",
      "  Stored in directory: c:\\users\\850066504\\appdata\\local\\pip\\cache\\wheels\\da\\15\\83\\b2b0adf6ebb17b0c7b8de4a901f0585ceb7627788a80071de0\n",
      "  Building wheel for silpa-common (setup.py): started\n",
      "  Building wheel for silpa-common (setup.py): finished with status 'done'\n",
      "  Created wheel for silpa-common: filename=silpa_common-0.3-py3-none-any.whl size=8483 sha256=6c06f1766eba63b1e15941c5aef0e01da1bedcb6cc532a4cb5298097c8e5e09f\n",
      "  Stored in directory: c:\\users\\850066504\\appdata\\local\\pip\\cache\\wheels\\a6\\6f\\59\\e83ae5c4ca78098dbecd1708dc7cd6856f202c0a008d8c3340\n",
      "  Building wheel for soundex (setup.py): started\n",
      "  Building wheel for soundex (setup.py): finished with status 'done'\n",
      "  Created wheel for soundex: filename=soundex-1.1.3-py3-none-any.whl size=8886 sha256=114dcc5f666a076aa9a1f742486ac5ac7d5ccaf513421d4febe7dc471bb34c08\n",
      "  Stored in directory: c:\\users\\850066504\\appdata\\local\\pip\\cache\\wheels\\e8\\fb\\75\\027059566520e35a1388cc49b69c84f6a28c4d530a5944ff55\n",
      "Successfully built spellchecker inexactsearch silpa-common soundex\n",
      "Installing collected packages: silpa-common, soundex, inexactsearch, spellchecker\n",
      "Successfully installed inexactsearch-1.0.2 silpa-common-0.3 soundex-1.1.3 spellchecker-0.4\n",
      "Note: you may need to restart the kernel to use updated packages.\n"
     ]
    },
    {
     "name": "stderr",
     "output_type": "stream",
     "text": [
      "WARNING: You are using pip version 21.1.1; however, version 23.1.2 is available.\n",
      "You should consider upgrading via the 'c:\\Program Files\\Python39\\python.exe -m pip install --upgrade pip' command.\n"
     ]
    }
   ],
   "source": [
    "pip install spellchecker"
   ]
  },
  {
   "cell_type": "code",
   "execution_count": 9,
   "metadata": {},
   "outputs": [
    {
     "name": "stdout",
     "output_type": "stream",
     "text": [
      "Defaulting to user installation because normal site-packages is not writeable\n",
      "Collecting enchant\n",
      "  Downloading enchant-0.0.1-py3-none-any.whl (2.4 kB)\n",
      "Installing collected packages: enchant\n",
      "Successfully installed enchant-0.0.1\n",
      "Note: you may need to restart the kernel to use updated packages.\n"
     ]
    },
    {
     "name": "stderr",
     "output_type": "stream",
     "text": [
      "WARNING: You are using pip version 21.1.1; however, version 23.1.2 is available.\n",
      "You should consider upgrading via the 'c:\\Program Files\\Python39\\python.exe -m pip install --upgrade pip' command.\n"
     ]
    }
   ],
   "source": [
    "pip install enchant"
   ]
  },
  {
   "cell_type": "code",
   "execution_count": 10,
   "metadata": {},
   "outputs": [
    {
     "name": "stdout",
     "output_type": "stream",
     "text": [
      "Defaulting to user installation because normal site-packages is not writeable\n",
      "Collecting pyenchant\n",
      "  Downloading pyenchant-3.2.2-py3-none-win_amd64.whl (11.9 MB)\n",
      "Installing collected packages: pyenchant\n",
      "Successfully installed pyenchant-3.2.2\n",
      "Note: you may need to restart the kernel to use updated packages.\n"
     ]
    },
    {
     "name": "stderr",
     "output_type": "stream",
     "text": [
      "WARNING: You are using pip version 21.1.1; however, version 23.1.2 is available.\n",
      "You should consider upgrading via the 'c:\\Program Files\\Python39\\python.exe -m pip install --upgrade pip' command.\n"
     ]
    }
   ],
   "source": [
    "pip install pyenchant"
   ]
  },
  {
   "cell_type": "code",
   "execution_count": 11,
   "metadata": {},
   "outputs": [
    {
     "name": "stdout",
     "output_type": "stream",
     "text": [
      "Defaulting to user installation because normal site-packages is not writeable\n",
      "Collecting language-tool-python\n",
      "  Downloading language_tool_python-2.7.1-py3-none-any.whl (34 kB)\n",
      "Requirement already satisfied: requests in c:\\users\\850066504\\appdata\\roaming\\python\\python39\\site-packages (from language-tool-python) (2.28.2)\n",
      "Requirement already satisfied: tqdm in c:\\users\\850066504\\appdata\\roaming\\python\\python39\\site-packages (from language-tool-python) (4.65.0)\n",
      "Requirement already satisfied: certifi>=2017.4.17 in c:\\users\\850066504\\appdata\\roaming\\python\\python39\\site-packages (from requests->language-tool-python) (2023.5.7)\n",
      "Requirement already satisfied: urllib3<1.27,>=1.21.1 in c:\\users\\850066504\\appdata\\roaming\\python\\python39\\site-packages (from requests->language-tool-python) (1.26.15)\n",
      "Requirement already satisfied: charset-normalizer<4,>=2 in c:\\users\\850066504\\appdata\\roaming\\python\\python39\\site-packages (from requests->language-tool-python) (3.1.0)\n",
      "Requirement already satisfied: idna<4,>=2.5 in c:\\users\\850066504\\appdata\\roaming\\python\\python39\\site-packages (from requests->language-tool-python) (3.4)\n",
      "Requirement already satisfied: colorama in c:\\users\\850066504\\appdata\\roaming\\python\\python39\\site-packages (from tqdm->language-tool-python) (0.4.6)\n",
      "Installing collected packages: language-tool-python\n",
      "Successfully installed language-tool-python-2.7.1\n",
      "Note: you may need to restart the kernel to use updated packages.\n"
     ]
    },
    {
     "name": "stderr",
     "output_type": "stream",
     "text": [
      "WARNING: You are using pip version 21.1.1; however, version 23.1.2 is available.\n",
      "You should consider upgrading via the 'c:\\Program Files\\Python39\\python.exe -m pip install --upgrade pip' command.\n"
     ]
    }
   ],
   "source": [
    "pip install language-tool-python"
   ]
  },
  {
   "cell_type": "code",
   "execution_count": 12,
   "metadata": {},
   "outputs": [],
   "source": [
    "import PyPDF2\n",
    "from sumy.parsers.plaintext import PlaintextParser\n",
    "from sumy.nlp.tokenizers import Tokenizer\n",
    "from sumy.summarizers.lsa import LsaSummarizer\n",
    "from language_tool_python import LanguageTool"
   ]
  },
  {
   "cell_type": "code",
   "execution_count": 13,
   "metadata": {},
   "outputs": [
    {
     "name": "stdout",
     "output_type": "stream",
     "text": [
      "Defaulting to user installation because normal site-packages is not writeable\n",
      "Requirement already satisfied: language-tool-python in c:\\users\\850066504\\appdata\\roaming\\python\\python39\\site-packages (2.7.1)\n",
      "Requirement already satisfied: requests in c:\\users\\850066504\\appdata\\roaming\\python\\python39\\site-packages (from language-tool-python) (2.28.2)\n",
      "Requirement already satisfied: tqdm in c:\\users\\850066504\\appdata\\roaming\\python\\python39\\site-packages (from language-tool-python) (4.65.0)\n",
      "Requirement already satisfied: idna<4,>=2.5 in c:\\users\\850066504\\appdata\\roaming\\python\\python39\\site-packages (from requests->language-tool-python) (3.4)\n",
      "Requirement already satisfied: urllib3<1.27,>=1.21.1 in c:\\users\\850066504\\appdata\\roaming\\python\\python39\\site-packages (from requests->language-tool-python) (1.26.15)\n",
      "Requirement already satisfied: charset-normalizer<4,>=2 in c:\\users\\850066504\\appdata\\roaming\\python\\python39\\site-packages (from requests->language-tool-python) (3.1.0)\n",
      "Requirement already satisfied: certifi>=2017.4.17 in c:\\users\\850066504\\appdata\\roaming\\python\\python39\\site-packages (from requests->language-tool-python) (2023.5.7)\n",
      "Requirement already satisfied: colorama in c:\\users\\850066504\\appdata\\roaming\\python\\python39\\site-packages (from tqdm->language-tool-python) (0.4.6)\n",
      "Note: you may need to restart the kernel to use updated packages.\n"
     ]
    },
    {
     "name": "stderr",
     "output_type": "stream",
     "text": [
      "WARNING: You are using pip version 21.1.1; however, version 23.1.2 is available.\n",
      "You should consider upgrading via the 'c:\\Program Files\\Python39\\python.exe -m pip install --upgrade pip' command.\n"
     ]
    }
   ],
   "source": [
    "pip install language-tool-python"
   ]
  },
  {
   "cell_type": "code",
   "execution_count": 14,
   "metadata": {},
   "outputs": [
    {
     "name": "stdout",
     "output_type": "stream",
     "text": [
      "Defaulting to user installation because normal site-packages is not writeable\n",
      "Requirement already satisfied: gingerit in c:\\users\\850066504\\appdata\\roaming\\python\\python39\\site-packages (0.9.0)\n",
      "Requirement already satisfied: cloudscraper<2.0.0,>=1.2.66 in c:\\users\\850066504\\appdata\\roaming\\python\\python39\\site-packages (from gingerit) (1.2.71)\n",
      "Requirement already satisfied: pyparsing>=2.4.7 in c:\\users\\850066504\\appdata\\roaming\\python\\python39\\site-packages (from cloudscraper<2.0.0,>=1.2.66->gingerit) (3.0.9)\n",
      "Requirement already satisfied: requests>=2.9.2 in c:\\users\\850066504\\appdata\\roaming\\python\\python39\\site-packages (from cloudscraper<2.0.0,>=1.2.66->gingerit) (2.28.2)\n",
      "Requirement already satisfied: requests-toolbelt>=0.9.1 in c:\\users\\850066504\\appdata\\roaming\\python\\python39\\site-packages (from cloudscraper<2.0.0,>=1.2.66->gingerit) (1.0.0)\n",
      "Requirement already satisfied: charset-normalizer<4,>=2 in c:\\users\\850066504\\appdata\\roaming\\python\\python39\\site-packages (from requests>=2.9.2->cloudscraper<2.0.0,>=1.2.66->gingerit) (3.1.0)\n",
      "Requirement already satisfied: urllib3<1.27,>=1.21.1 in c:\\users\\850066504\\appdata\\roaming\\python\\python39\\site-packages (from requests>=2.9.2->cloudscraper<2.0.0,>=1.2.66->gingerit) (1.26.15)\n",
      "Requirement already satisfied: certifi>=2017.4.17 in c:\\users\\850066504\\appdata\\roaming\\python\\python39\\site-packages (from requests>=2.9.2->cloudscraper<2.0.0,>=1.2.66->gingerit) (2023.5.7)\n",
      "Requirement already satisfied: idna<4,>=2.5 in c:\\users\\850066504\\appdata\\roaming\\python\\python39\\site-packages (from requests>=2.9.2->cloudscraper<2.0.0,>=1.2.66->gingerit) (3.4)\n",
      "Note: you may need to restart the kernel to use updated packages.\n"
     ]
    },
    {
     "name": "stderr",
     "output_type": "stream",
     "text": [
      "WARNING: You are using pip version 21.1.1; however, version 23.1.2 is available.\n",
      "You should consider upgrading via the 'c:\\Program Files\\Python39\\python.exe -m pip install --upgrade pip' command.\n"
     ]
    }
   ],
   "source": [
    "pip install gingerit"
   ]
  },
  {
   "cell_type": "code",
   "execution_count": 16,
   "metadata": {},
   "outputs": [
    {
     "name": "stdout",
     "output_type": "stream",
     "text": [
      "\n",
      "Corrected Summary:\n",
      "v. Comprehensive analysis and understanding of the current environment, that incorporates considerations for security such as data sensitivity, legal or other regulatory issues, d isaster recovery and analysis of which on -premise technical resources / applications are best suited for the cloud vi. • Service shall allow Government Department empaneled users to procure and provision computing services or virtual m achine instances online with two -factor authentication via the SSL through a web browser. • CSP shall ensure that VMs receive OS patching, health checking, Systematic Attack Detection and backup functions. • CSPs shall be responsible for development, deployment, operations and support of  custom applications or any application procured by the User Department from Platform as a Service. • CSPs shall ensure that any services offered from Platform as a Service are portable and vertic ally integrated. • CSPs shall ensure that User Departments are provided with Central web based tool for monitoring and manag ement of services. • CSPs shall be responsible for ensuring that all data functions and processing are performed within the boundaries of India. • CSPs shall ensure that any service offered from SaaS are monitored, controlled and administered using web based tool with visibility to the User Department. • CSPs shall ensure that User Departments are provided with capability to generate custom reports around several parameters such as users, time, data, etc. • CSPs shall ensure that any service offered from the SaaS solution provider comply with PII data security standards like ISO 27018.\n"
     ]
    }
   ],
   "source": [
    "import PyPDF2\n",
    "from sumy.parsers.plaintext import PlaintextParser\n",
    "from sumy.nlp.tokenizers import Tokenizer\n",
    "from sumy.summarizers.lsa import LsaSummarizer\n",
    "from gingerit.gingerit import GingerIt\n",
    "\n",
    "def extract_text_from_pdf(file_path, start_page, end_page):\n",
    "    text = \"\"\n",
    "    \n",
    "    with open(file_path, 'rb') as file:\n",
    "        reader = PyPDF2.PdfReader(file)\n",
    "\n",
    "        start_page = max(start_page, 0)\n",
    "        end_page = min(end_page, len(reader.pages))\n",
    "        \n",
    "        for page_num in range(start_page, end_page):\n",
    "            page = reader.pages[page_num]\n",
    "            text += page.extract_text()\n",
    "    \n",
    "    return text\n",
    "\n",
    "\n",
    "pdf_file_path = \"C:/Users/850066504/Downloads/file.pdf\"\n",
    "\n",
    "start_page = 36 \n",
    "end_page = 40  \n",
    "\n",
    "\n",
    "extracted_text = extract_text_from_pdf(pdf_file_path, start_page, end_page)\n",
    "\n",
    "\n",
    "parser = PlaintextParser.from_string(extracted_text, Tokenizer(\"english\"))\n",
    "\n",
    "\n",
    "summarizer = LsaSummarizer()\n",
    "summary = summarizer(parser.document, 10)  \n",
    "\n",
    "\n",
    "summary_text = \" \".join(str(sentence) for sentence in summary)\n",
    "\n",
    "\n",
    "ginger_parser = GingerIt()\n",
    "try:\n",
    "    corrected_summary = ginger_parser.parse(summary_text)\n",
    "    result = corrected_summary['result']\n",
    "except KeyError:\n",
    "    result = summary_text\n",
    "\n",
    "print(\"\\nCorrected Summary:\")\n",
    "print(result)\n"
   ]
  },
  {
   "cell_type": "code",
   "execution_count": null,
   "metadata": {},
   "outputs": [],
   "source": []
  }
 ],
 "metadata": {
  "interpreter": {
   "hash": "11938c6bc6919ae2720b4d5011047913343b08a43b18698fd82dedb0d4417594"
  },
  "kernelspec": {
   "display_name": "Python 3.9.5 64-bit (system)",
   "language": "python",
   "name": "python3"
  },
  "language_info": {
   "codemirror_mode": {
    "name": "ipython",
    "version": 3
   },
   "file_extension": ".py",
   "mimetype": "text/x-python",
   "name": "python",
   "nbconvert_exporter": "python",
   "pygments_lexer": "ipython3",
   "version": "3.9.5"
  },
  "orig_nbformat": 4
 },
 "nbformat": 4,
 "nbformat_minor": 2
}
