{
  "cells": [
    {
      "cell_type": "code",
      "source": [
        "!pip install -q torch_snippets\n",
        "!pip install datasets transformers[sentencepiece]\n",
        "\n",
        "import torch\n",
        "import torch.nn as nn\n",
        "from torch.utils.data import Dataset, DataLoader\n",
        "from torch_snippets import *\n",
        "from transformers import (T5Tokenizer,\n",
        "                          T5ForConditionalGeneration,\n",
        "                          )\n",
        "\n",
        "device = torch.device(\"cuda\" if torch.cuda.is_available() else \"cpu\")"
      ],
      "metadata": {
        "id": "UEn4yF0-T-5g",
        "outputId": "8e659a32-1a6a-485d-de7a-627b79cd9805",
        "colab": {
          "base_uri": "https://localhost:8080/"
        }
      },
      "execution_count": 5,
      "outputs": [
        {
          "output_type": "stream",
          "name": "stdout",
          "text": [
            "Requirement already satisfied: datasets in /usr/local/lib/python3.10/dist-packages (2.13.1)\n",
            "Requirement already satisfied: transformers[sentencepiece] in /usr/local/lib/python3.10/dist-packages (4.30.2)\n",
            "Requirement already satisfied: numpy>=1.17 in /usr/local/lib/python3.10/dist-packages (from datasets) (1.22.4)\n",
            "Requirement already satisfied: pyarrow>=8.0.0 in /usr/local/lib/python3.10/dist-packages (from datasets) (9.0.0)\n",
            "Requirement already satisfied: dill<0.3.7,>=0.3.0 in /usr/local/lib/python3.10/dist-packages (from datasets) (0.3.6)\n",
            "Requirement already satisfied: pandas in /usr/local/lib/python3.10/dist-packages (from datasets) (1.5.3)\n",
            "Requirement already satisfied: requests>=2.19.0 in /usr/local/lib/python3.10/dist-packages (from datasets) (2.27.1)\n",
            "Requirement already satisfied: tqdm>=4.62.1 in /usr/local/lib/python3.10/dist-packages (from datasets) (4.65.0)\n",
            "Requirement already satisfied: xxhash in /usr/local/lib/python3.10/dist-packages (from datasets) (3.2.0)\n",
            "Requirement already satisfied: multiprocess in /usr/local/lib/python3.10/dist-packages (from datasets) (0.70.14)\n",
            "Requirement already satisfied: fsspec[http]>=2021.11.1 in /usr/local/lib/python3.10/dist-packages (from datasets) (2023.6.0)\n",
            "Requirement already satisfied: aiohttp in /usr/local/lib/python3.10/dist-packages (from datasets) (3.8.4)\n",
            "Requirement already satisfied: huggingface-hub<1.0.0,>=0.11.0 in /usr/local/lib/python3.10/dist-packages (from datasets) (0.15.1)\n",
            "Requirement already satisfied: packaging in /usr/local/lib/python3.10/dist-packages (from datasets) (23.1)\n",
            "Requirement already satisfied: pyyaml>=5.1 in /usr/local/lib/python3.10/dist-packages (from datasets) (6.0)\n",
            "Requirement already satisfied: filelock in /usr/local/lib/python3.10/dist-packages (from transformers[sentencepiece]) (3.12.2)\n",
            "Requirement already satisfied: regex!=2019.12.17 in /usr/local/lib/python3.10/dist-packages (from transformers[sentencepiece]) (2022.10.31)\n",
            "Requirement already satisfied: tokenizers!=0.11.3,<0.14,>=0.11.1 in /usr/local/lib/python3.10/dist-packages (from transformers[sentencepiece]) (0.13.3)\n",
            "Requirement already satisfied: safetensors>=0.3.1 in /usr/local/lib/python3.10/dist-packages (from transformers[sentencepiece]) (0.3.1)\n",
            "Requirement already satisfied: sentencepiece!=0.1.92,>=0.1.91 in /usr/local/lib/python3.10/dist-packages (from transformers[sentencepiece]) (0.1.99)\n",
            "Requirement already satisfied: protobuf<=3.20.3 in /usr/local/lib/python3.10/dist-packages (from transformers[sentencepiece]) (3.20.3)\n",
            "Requirement already satisfied: attrs>=17.3.0 in /usr/local/lib/python3.10/dist-packages (from aiohttp->datasets) (23.1.0)\n",
            "Requirement already satisfied: charset-normalizer<4.0,>=2.0 in /usr/local/lib/python3.10/dist-packages (from aiohttp->datasets) (2.0.12)\n",
            "Requirement already satisfied: multidict<7.0,>=4.5 in /usr/local/lib/python3.10/dist-packages (from aiohttp->datasets) (6.0.4)\n",
            "Requirement already satisfied: async-timeout<5.0,>=4.0.0a3 in /usr/local/lib/python3.10/dist-packages (from aiohttp->datasets) (4.0.2)\n",
            "Requirement already satisfied: yarl<2.0,>=1.0 in /usr/local/lib/python3.10/dist-packages (from aiohttp->datasets) (1.9.2)\n",
            "Requirement already satisfied: frozenlist>=1.1.1 in /usr/local/lib/python3.10/dist-packages (from aiohttp->datasets) (1.3.3)\n",
            "Requirement already satisfied: aiosignal>=1.1.2 in /usr/local/lib/python3.10/dist-packages (from aiohttp->datasets) (1.3.1)\n",
            "Requirement already satisfied: typing-extensions>=3.7.4.3 in /usr/local/lib/python3.10/dist-packages (from huggingface-hub<1.0.0,>=0.11.0->datasets) (4.6.3)\n",
            "Requirement already satisfied: urllib3<1.27,>=1.21.1 in /usr/local/lib/python3.10/dist-packages (from requests>=2.19.0->datasets) (1.26.16)\n",
            "Requirement already satisfied: certifi>=2017.4.17 in /usr/local/lib/python3.10/dist-packages (from requests>=2.19.0->datasets) (2023.5.7)\n",
            "Requirement already satisfied: idna<4,>=2.5 in /usr/local/lib/python3.10/dist-packages (from requests>=2.19.0->datasets) (3.4)\n",
            "Requirement already satisfied: python-dateutil>=2.8.1 in /usr/local/lib/python3.10/dist-packages (from pandas->datasets) (2.8.2)\n",
            "Requirement already satisfied: pytz>=2020.1 in /usr/local/lib/python3.10/dist-packages (from pandas->datasets) (2022.7.1)\n",
            "Requirement already satisfied: six>=1.5 in /usr/local/lib/python3.10/dist-packages (from python-dateutil>=2.8.1->pandas->datasets) (1.16.0)\n"
          ]
        }
      ]
    },
    {
      "cell_type": "code",
      "source": [
        "pip install transformers"
      ],
      "metadata": {
        "id": "iRTruOo7te7B",
        "outputId": "f6c8731d-0e90-4a29-f1d5-3fba2a076c49",
        "colab": {
          "base_uri": "https://localhost:8080/"
        }
      },
      "execution_count": 9,
      "outputs": [
        {
          "output_type": "stream",
          "name": "stdout",
          "text": [
            "Requirement already satisfied: transformers in /usr/local/lib/python3.10/dist-packages (4.30.2)\n",
            "Requirement already satisfied: filelock in /usr/local/lib/python3.10/dist-packages (from transformers) (3.12.2)\n",
            "Requirement already satisfied: huggingface-hub<1.0,>=0.14.1 in /usr/local/lib/python3.10/dist-packages (from transformers) (0.15.1)\n",
            "Requirement already satisfied: numpy>=1.17 in /usr/local/lib/python3.10/dist-packages (from transformers) (1.22.4)\n",
            "Requirement already satisfied: packaging>=20.0 in /usr/local/lib/python3.10/dist-packages (from transformers) (23.1)\n",
            "Requirement already satisfied: pyyaml>=5.1 in /usr/local/lib/python3.10/dist-packages (from transformers) (6.0)\n",
            "Requirement already satisfied: regex!=2019.12.17 in /usr/local/lib/python3.10/dist-packages (from transformers) (2022.10.31)\n",
            "Requirement already satisfied: requests in /usr/local/lib/python3.10/dist-packages (from transformers) (2.27.1)\n",
            "Requirement already satisfied: tokenizers!=0.11.3,<0.14,>=0.11.1 in /usr/local/lib/python3.10/dist-packages (from transformers) (0.13.3)\n",
            "Requirement already satisfied: safetensors>=0.3.1 in /usr/local/lib/python3.10/dist-packages (from transformers) (0.3.1)\n",
            "Requirement already satisfied: tqdm>=4.27 in /usr/local/lib/python3.10/dist-packages (from transformers) (4.65.0)\n",
            "Requirement already satisfied: fsspec in /usr/local/lib/python3.10/dist-packages (from huggingface-hub<1.0,>=0.14.1->transformers) (2023.6.0)\n",
            "Requirement already satisfied: typing-extensions>=3.7.4.3 in /usr/local/lib/python3.10/dist-packages (from huggingface-hub<1.0,>=0.14.1->transformers) (4.6.3)\n",
            "Requirement already satisfied: urllib3<1.27,>=1.21.1 in /usr/local/lib/python3.10/dist-packages (from requests->transformers) (1.26.16)\n",
            "Requirement already satisfied: certifi>=2017.4.17 in /usr/local/lib/python3.10/dist-packages (from requests->transformers) (2023.5.7)\n",
            "Requirement already satisfied: charset-normalizer~=2.0.0 in /usr/local/lib/python3.10/dist-packages (from requests->transformers) (2.0.12)\n",
            "Requirement already satisfied: idna<4,>=2.5 in /usr/local/lib/python3.10/dist-packages (from requests->transformers) (3.4)\n"
          ]
        }
      ]
    },
    {
      "cell_type": "code",
      "source": [
        "from transformers import pipeline\n",
        "\n",
        "def summarize_transcript(transcript, model_name=\"facebook/bart-large-cnn\"):\n",
        "    summarizer = pipeline(\"summarization\", model=model_name)\n",
        "    summary = summarizer(transcript, max_length=150, min_length=100, num_beams=4, early_stopping=True)[0]['summary_text']\n",
        "    return summary\n",
        "\n",
        "# Example usage:\n",
        "transcript = '''\n",
        "[Interviewer]: Welcome to today's discussion on the topic of Artificial Intelligence and its impact on society. We have gathered experts from various fields to share their insights and perspectives. Let's begin. How would you define Artificial Intelligence (AI)?\n",
        "\n",
        "[Expert 1]: AI refers to the simulation of human intelligence in machines that are programmed to think and learn like humans. It involves various technologies like machine learning and natural language processing.\n",
        "\n",
        "[Interviewer]: That's a comprehensive definition. How is AI being utilized in the real world?\n",
        "\n",
        "[Expert 2]: AI is being applied in numerous sectors, including healthcare, finance, education, and more. For example, in healthcare, AI is used to analyze medical data and assist in diagnosing diseases more accurately.\n",
        "\n",
        "[Expert 3]: In finance, AI algorithms are employed for fraud detection and trading strategies, leading to more efficient and secure financial systems.\n",
        "\n",
        "[Interviewer]: AI's advancements have indeed transformed various industries. But what about concerns related to job displacement?\n",
        "\n",
        "[Expert 4]: Job displacement is a valid concern. While AI creates new job opportunities, it may also replace certain repetitive tasks. It's essential to focus on reskilling the workforce to adapt to this changing landscape.\n",
        "\n",
        "[Expert 5]: Additionally, policymakers need to implement measures that address potential job loss and ensure a fair transition for the workforce.\n",
        "\n",
        "[Interviewer]: True. Another critical aspect is AI ethics. How can we ensure AI systems are fair and unbiased?\n",
        "\n",
        "[Expert 6]: AI systems can inherit biases from the data they are trained on. To tackle this, it's crucial to have diverse and representative datasets and continuously monitor the AI's outputs for bias.\n",
        "\n",
        "[Expert 7]: Transparency and accountability are also vital. We should encourage AI developers to provide explanations for their models' decisions.\n",
        "\n",
        "[Interviewer]: Excellent points. Now, let's discuss AI's impact on privacy.\n",
        "\n",
        "[Expert 8]: AI often processes vast amounts of personal data, raising concerns about privacy breaches. Strong data protection laws and robust security measures are necessary to safeguard user information.\n",
        "\n",
        "[Expert 9]: At the same time, AI can also enhance privacy by automating data anonymization and protecting sensitive information.\n",
        "\n",
        "[Interviewer]: That's a valid perspective. Moving on, how does AI influence education?\n",
        "\n",
        "[Expert 10]: AI has the potential to personalize learning experiences for students, identifying their strengths and weaknesses to provide tailored content and support.\n",
        "\n",
        "[Expert 11]: Additionally, AI-powered educational tools can make learning more engaging and accessible to a broader audience.\n",
        "\n",
        "[Interviewer]: Fascinating. Let's address the issue of AI in autonomous systems, such as self-driving cars.\n",
        "\n",
        "[Expert 12]: Safety is a paramount concern in autonomous systems. AI algorithms must undergo rigorous testing and validation before being deployed in real-world scenarios.\n",
        "\n",
        "[Expert 13]: Additionally, establishing clear regulations and standards for autonomous systems is crucial to ensure public trust and safety.\n",
        "\n",
        "[Interviewer]: Indeed. Now, what about the potential for AI to exacerbate societal inequalities?\n",
        "\n",
        "[Expert 14]: AI can perpetuate existing inequalities if not implemented carefully. It's vital to have diverse teams working on AI development to consider various perspectives.\n",
        "\n",
        "[Expert 15]: Furthermore, policymakers should use AI to address social challenges and bridge the digital divide.\n",
        "\n",
        "[Interviewer]: Absolutely. We have time for one more question. How can individuals prepare for an AI-driven future?\n",
        "\n",
        "[Expert 16]: Continuous learning and upskilling are essential to stay relevant in a rapidly changing job market.\n",
        "\n",
        "[Expert 17]: Being adaptable and open to learning new skills will enable individuals to embrace AI as a complement to their work.\n",
        "\n",
        "[Interviewer]: Thank you all for sharing your valuable insights on Artificial Intelligence and its impact on society. This discussion has been enlightening and thought-provoking. Let's continue our efforts to harness AI's potential responsibly for a better future.\n",
        "\n",
        "'''\n",
        "\n",
        "summary = summarize_transcript(transcript, model_name=\"facebook/bart-large-cnn\")\n",
        "print(\"Summary:\")\n",
        "print(summary)\n"
      ],
      "metadata": {
        "id": "3YB7fLfStqN2",
        "outputId": "99d79a8d-91fd-483f-e17d-ff586017a270",
        "colab": {
          "base_uri": "https://localhost:8080/",
          "height": 130
        }
      },
      "execution_count": 13,
      "outputs": [
        {
          "output_type": "display_data",
          "data": {
            "text/plain": [
              "Summary:\n"
            ],
            "text/html": [
              "<pre style=\"white-space:pre;overflow-x:auto;line-height:normal;font-family:Menlo,'DejaVu Sans Mono',consolas,'Courier New',monospace\">Summary:\n",
              "</pre>\n"
            ]
          },
          "metadata": {}
        },
        {
          "output_type": "display_data",
          "data": {
            "text/plain": [
              "Artificial Intelligence \u001b[1m(\u001b[0mAI\u001b[1m)\u001b[0m is being applied in numerous sectors, including healthcare, finance, education, and \n",
              "more. While AI creates new job opportunities, it may also replace certain repetitive tasks. It's essential to focus\n",
              "on reskilling the workforce to adapt to this changing landscape. AI algorithms must undergo rigorous testing and \n",
              "validation before being deployed in real-world scenarios. Safety is a paramount concern in autonomous systems, and \n",
              "establishing clear regulations and standards for autonomous systems is crucial to ensure public trust and safety.\n"
            ],
            "text/html": [
              "<pre style=\"white-space:pre;overflow-x:auto;line-height:normal;font-family:Menlo,'DejaVu Sans Mono',consolas,'Courier New',monospace\">Artificial Intelligence <span style=\"font-weight: bold\">(</span>AI<span style=\"font-weight: bold\">)</span> is being applied in numerous sectors, including healthcare, finance, education, and \n",
              "more. While AI creates new job opportunities, it may also replace certain repetitive tasks. It's essential to focus\n",
              "on reskilling the workforce to adapt to this changing landscape. AI algorithms must undergo rigorous testing and \n",
              "validation before being deployed in real-world scenarios. Safety is a paramount concern in autonomous systems, and \n",
              "establishing clear regulations and standards for autonomous systems is crucial to ensure public trust and safety.\n",
              "</pre>\n"
            ]
          },
          "metadata": {}
        }
      ]
    },
    {
      "cell_type": "code",
      "source": [
        "from transformers import pipeline\n",
        "\n",
        "def paraphrase_transcript(transcript, model_name=\"facebook/bart-large-cnn\"):\n",
        "    paraphraser = pipeline(\"text2text-generation\", model=model_name)\n",
        "    paraphrased_transcript = paraphraser(transcript, max_length=150, num_beams=4, early_stopping=True)[0]['generated_text']\n",
        "    return paraphrased_transcript\n",
        "\n",
        "# Example usage:\n",
        "transcript = '''\n",
        "[Interviewer]: Welcome to today's discussion on the topic of Artificial Intelligence and its impact on society. We have gathered experts from various fields to share their insights and perspectives. Let's begin. How would you define Artificial Intelligence (AI)?\n",
        "\n",
        "[Expert 1]: AI refers to the simulation of human intelligence in machines that are programmed to think and learn like humans. It involves various technologies like machine learning and natural language processing.\n",
        "\n",
        "[Interviewer]: That's a comprehensive definition. How is AI being utilized in the real world?\n",
        "\n",
        "[Expert 2]: AI is being applied in numerous sectors, including healthcare, finance, education, and more. For example, in healthcare, AI is used to analyze medical data and assist in diagnosing diseases more accurately.\n",
        "\n",
        "[Expert 3]: In finance, AI algorithms are employed for fraud detection and trading strategies, leading to more efficient and secure financial systems.\n",
        "\n",
        "[Interviewer]: AI's advancements have indeed transformed various industries. But what about concerns related to job displacement?\n",
        "\n",
        "[Expert 4]: Job displacement is a valid concern. While AI creates new job opportunities, it may also replace certain repetitive tasks. It's essential to focus on reskilling the workforce to adapt to this changing landscape.\n",
        "\n",
        "[Expert 5]: Additionally, policymakers need to implement measures that address potential job loss and ensure a fair transition for the workforce.\n",
        "\n",
        "[Interviewer]: True. Another critical aspect is AI ethics. How can we ensure AI systems are fair and unbiased?\n",
        "\n",
        "[Expert 6]: AI systems can inherit biases from the data they are trained on. To tackle this, it's crucial to have diverse and representative datasets and continuously monitor the AI's outputs for bias.\n",
        "\n",
        "[Expert 7]: Transparency and accountability are also vital. We should encourage AI developers to provide explanations for their models' decisions.\n",
        "\n",
        "[Interviewer]: Excellent points. Now, let's discuss AI's impact on privacy.\n",
        "\n",
        "[Expert 8]: AI often processes vast amounts of personal data, raising concerns about privacy breaches. Strong data protection laws and robust security measures are necessary to safeguard user information.\n",
        "\n",
        "[Expert 9]: At the same time, AI can also enhance privacy by automating data anonymization and protecting sensitive information.\n",
        "\n",
        "[Interviewer]: That's a valid perspective. Moving on, how does AI influence education?\n",
        "\n",
        "[Expert 10]: AI has the potential to personalize learning experiences for students, identifying their strengths and weaknesses to provide tailored content and support.\n",
        "\n",
        "[Expert 11]: Additionally, AI-powered educational tools can make learning more engaging and accessible to a broader audience.\n",
        "\n",
        "[Interviewer]: Fascinating. Let's address the issue of AI in autonomous systems, such as self-driving cars.\n",
        "\n",
        "[Expert 12]: Safety is a paramount concern in autonomous systems. AI algorithms must undergo rigorous testing and validation before being deployed in real-world scenarios.\n",
        "\n",
        "[Expert 13]: Additionally, establishing clear regulations and standards for autonomous systems is crucial to ensure public trust and safety.\n",
        "\n",
        "[Interviewer]: Indeed. Now, what about the potential for AI to exacerbate societal inequalities?\n",
        "\n",
        "[Expert 14]: AI can perpetuate existing inequalities if not implemented carefully. It's vital to have diverse teams working on AI development to consider various perspectives.\n",
        "\n",
        "[Expert 15]: Furthermore, policymakers should use AI to address social challenges and bridge the digital divide.\n",
        "\n",
        "[Interviewer]: Absolutely. We have time for one more question. How can individuals prepare for an AI-driven future?\n",
        "\n",
        "[Expert 16]: Continuous learning and upskilling are essential to stay relevant in a rapidly changing job market.\n",
        "\n",
        "[Expert 17]: Being adaptable and open to learning new skills will enable individuals to embrace AI as a complement to their work.\n",
        "\n",
        "[Interviewer]: Thank you all for sharing your valuable insights on Artificial Intelligence and its impact on society. This discussion has been enlightening and thought-provoking. Let's continue our efforts to harness AI's potential responsibly for a better future.\n",
        "\n",
        "'''\n",
        "\n",
        "paraphrased_transcript = paraphrase_transcript(transcript, model_name=\"facebook/bart-large-cnn\")\n",
        "print(\"Paraphrased Transcript:\")\n",
        "print(paraphrased_transcript)\n"
      ],
      "metadata": {
        "id": "WdG8f2SH0d0r",
        "outputId": "f425b7f7-77df-426e-a912-bd0339e04fef",
        "colab": {
          "base_uri": "https://localhost:8080/",
          "height": 114
        }
      },
      "execution_count": 17,
      "outputs": [
        {
          "output_type": "display_data",
          "data": {
            "text/plain": [
              "Paraphrased Transcript:\n"
            ],
            "text/html": [
              "<pre style=\"white-space:pre;overflow-x:auto;line-height:normal;font-family:Menlo,'DejaVu Sans Mono',consolas,'Courier New',monospace\">Paraphrased Transcript:\n",
              "</pre>\n"
            ]
          },
          "metadata": {}
        },
        {
          "output_type": "display_data",
          "data": {
            "text/plain": [
              "Artificial Intelligence is being applied in numerous sectors, including healthcare, finance, education, and more. \n",
              "While AI creates new job opportunities, it may also replace certain repetitive tasks. It's essential to focus on \n",
              "reskilling the workforce to adapt to this changing landscape. AI can perpetuate existing inequalities if not \n",
              "implemented carefully.\n"
            ],
            "text/html": [
              "<pre style=\"white-space:pre;overflow-x:auto;line-height:normal;font-family:Menlo,'DejaVu Sans Mono',consolas,'Courier New',monospace\">Artificial Intelligence is being applied in numerous sectors, including healthcare, finance, education, and more. \n",
              "While AI creates new job opportunities, it may also replace certain repetitive tasks. It's essential to focus on \n",
              "reskilling the workforce to adapt to this changing landscape. AI can perpetuate existing inequalities if not \n",
              "implemented carefully.\n",
              "</pre>\n"
            ]
          },
          "metadata": {}
        }
      ]
    }
  ],
  "metadata": {
    "colab": {
      "name": "Welcome To Colaboratory",
      "toc_visible": true,
      "provenance": []
    },
    "kernelspec": {
      "display_name": "Python 3",
      "name": "python3"
    }
  },
  "nbformat": 4,
  "nbformat_minor": 0
}